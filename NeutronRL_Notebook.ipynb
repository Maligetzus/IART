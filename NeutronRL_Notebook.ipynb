{
 "cells": [
  {
   "cell_type": "markdown",
   "metadata": {},
   "source": [
    "# Neutron - Reinforcement Learning"
   ]
  },
  {
   "cell_type": "markdown",
   "metadata": {},
   "source": [
    "## Authors\n",
    "\n",
    "Filipe Barbosa - up201909573\n",
    "Hrvoje Maligec - up201911221\n",
    "José Pedro Baptista - up201705255"
   ]
  },
  {
   "cell_type": "markdown",
   "metadata": {},
   "source": [
    "## Abstract\n",
    "\n",
    "***TODO***"
   ]
  },
  {
   "cell_type": "markdown",
   "metadata": {},
   "source": [
    "## Introduction\n",
    "\n",
    "In this project we will implement a self-learning agent using reinforcement learning techniques to play the Neutron board game. \n",
    "Since our first project was about this game, we will be using most of the implemented code for this project too, with some changes and additions regarding the game states. Unlike the last project, there will only be one type of board: 5x5, because the number of possible states in a 7x7 board is way higher (~112M) and would consume a lot of resources, as well as time to process."
   ]
  },
  {
   "cell_type": "markdown",
   "metadata": {},
   "source": [
    "## Description of the problem\n",
    "\n",
    "***TODO***"
   ]
  },
  {
   "cell_type": "markdown",
   "metadata": {},
   "source": [
    "## Approach\n",
    "\n",
    "***TODO***\n",
    "\n",
    "\n",
    "### Qlearning\n",
    "\n",
    "***TODO***\n",
    "\n",
    "\n",
    "### SARSA\n",
    "\n",
    "***TODO***"
   ]
  },
  {
   "cell_type": "markdown",
   "metadata": {},
   "source": [
    "## Experimental Evaluation\n",
    "\n",
    "\n",
    "### Qlearning\n",
    "\n",
    "***TODO***\n",
    "\n",
    "### SARSA\n",
    "\n",
    "***TODO***"
   ]
  },
  {
   "cell_type": "markdown",
   "metadata": {},
   "source": [
    "## Conclusions\n",
    "\n",
    "***TODO***"
   ]
  }
 ],
 "metadata": {
  "kernelspec": {
   "display_name": "Python 3",
   "language": "python",
   "name": "python3"
  },
  "language_info": {
   "codemirror_mode": {
    "name": "ipython",
    "version": 3
   },
   "file_extension": ".py",
   "mimetype": "text/x-python",
   "name": "python",
   "nbconvert_exporter": "python",
   "pygments_lexer": "ipython3",
   "version": "3.7.5"
  }
 },
 "nbformat": 4,
 "nbformat_minor": 4
}
