{
 "cells": [
  {
   "cell_type": "markdown",
   "metadata": {},
   "source": [
    "# Neutron - Reinforcement Learning"
   ]
  },
  {
   "cell_type": "markdown",
   "metadata": {},
   "source": [
    "## Authors\n",
    "\n",
    "* Filipe Barbosa - up201909573\n",
    "* Hrvoje Maligec - up201911221\n",
    "* José Pedro Baptista - up201705255"
   ]
  },
  {
   "cell_type": "markdown",
   "metadata": {},
   "source": [
    "## Abstract\n",
    "\n",
    "***TODO***"
   ]
  },
  {
   "cell_type": "markdown",
   "metadata": {},
   "source": [
    "## 1. Introduction\n",
    "\n",
    "In this project we will implement a self-learning agent using reinforcement learning techniques to play the Neutron board game. \n",
    "Since our first project was about this game, we will be using most of the implemented code for this project too, with some changes and additions regarding the game states. Unlike the last project, there will only be one type of board: 5x5, because the number of possible states in a 7x7 board is way higher (~112M) and would consume a lot of resources, as well as time to process."
   ]
  },
  {
   "cell_type": "markdown",
   "metadata": {},
   "source": [
    "## 2. Description of the problem\n",
    "\n",
    "***TODO***"
   ]
  },
  {
   "cell_type": "markdown",
   "metadata": {},
   "source": [
    "## 3. Approach\n",
    "\n",
    "***TODO***\n",
    "\n",
    "\n",
    "### 3.1. Qlearning\n",
    "\n",
    "***TODO***\n",
    "\n",
    "\n",
    "### 3.2. SARSA\n",
    "\n",
    "***TODO***"
   ]
  },
  {
   "cell_type": "markdown",
   "metadata": {},
   "source": [
    "## 4. Experimental Evaluation\n",
    "\n",
    "\n",
    "### 4.1. Qlearning\n",
    "\n",
    "***TODO***\n",
    "\n",
    "### 4.2. SARSA\n",
    "\n",
    "***TODO***"
   ]
  },
  {
   "cell_type": "markdown",
   "metadata": {},
   "source": [
    "## 5. Conclusions\n",
    "\n",
    "***TODO***"
   ]
  },
  {
   "cell_type": "markdown",
   "metadata": {},
   "source": [
    "## References\n",
    "\n",
    "***TODO***"
   ]
  }
 ],
 "metadata": {
  "kernelspec": {
   "display_name": "Python 3",
   "language": "python",
   "name": "python3"
  },
  "language_info": {
   "codemirror_mode": {
    "name": "ipython",
    "version": 3
   },
   "file_extension": ".py",
   "mimetype": "text/x-python",
   "name": "python",
   "nbconvert_exporter": "python",
   "pygments_lexer": "ipython3",
   "version": "3.8.0"
  }
 },
 "nbformat": 4,
 "nbformat_minor": 4
}
